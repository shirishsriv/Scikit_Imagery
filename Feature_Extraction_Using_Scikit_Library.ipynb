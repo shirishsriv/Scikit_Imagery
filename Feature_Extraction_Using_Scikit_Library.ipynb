{
 "cells": [
  {
   "cell_type": "code",
   "execution_count": 3,
   "id": "ad335f6a",
   "metadata": {},
   "outputs": [
    {
     "name": "stdout",
     "output_type": "stream",
     "text": [
      "Collecting scikit-image\n",
      "  Downloading scikit_image-0.25.2-cp311-cp311-macosx_12_0_arm64.whl.metadata (14 kB)\n",
      "Requirement already satisfied: numpy>=1.24 in /Library/Frameworks/Python.framework/Versions/3.11/lib/python3.11/site-packages (from scikit-image) (1.26.4)\n",
      "Collecting scipy>=1.11.4 (from scikit-image)\n",
      "  Downloading scipy-1.16.0-cp311-cp311-macosx_14_0_arm64.whl.metadata (61 kB)\n",
      "Requirement already satisfied: networkx>=3.0 in /Library/Frameworks/Python.framework/Versions/3.11/lib/python3.11/site-packages (from scikit-image) (3.5)\n",
      "Requirement already satisfied: pillow>=10.1 in /Library/Frameworks/Python.framework/Versions/3.11/lib/python3.11/site-packages (from scikit-image) (11.3.0)\n",
      "Collecting imageio!=2.35.0,>=2.33 (from scikit-image)\n",
      "  Downloading imageio-2.37.0-py3-none-any.whl.metadata (5.2 kB)\n",
      "Collecting tifffile>=2022.8.12 (from scikit-image)\n",
      "  Downloading tifffile-2025.6.11-py3-none-any.whl.metadata (32 kB)\n",
      "Requirement already satisfied: packaging>=21 in /Library/Frameworks/Python.framework/Versions/3.11/lib/python3.11/site-packages (from scikit-image) (25.0)\n",
      "Collecting lazy-loader>=0.4 (from scikit-image)\n",
      "  Downloading lazy_loader-0.4-py3-none-any.whl.metadata (7.6 kB)\n",
      "Downloading scikit_image-0.25.2-cp311-cp311-macosx_12_0_arm64.whl (13.2 MB)\n",
      "\u001b[2K   \u001b[90m━━━━━━━━━━━━━━━━━━━━━━━━━━━━━━━━━━━━━━━━\u001b[0m \u001b[32m13.2/13.2 MB\u001b[0m \u001b[31m16.5 MB/s\u001b[0m eta \u001b[36m0:00:00\u001b[0ma \u001b[36m0:00:01\u001b[0m\n",
      "\u001b[?25hDownloading imageio-2.37.0-py3-none-any.whl (315 kB)\n",
      "Downloading lazy_loader-0.4-py3-none-any.whl (12 kB)\n",
      "Downloading scipy-1.16.0-cp311-cp311-macosx_14_0_arm64.whl (20.8 MB)\n",
      "\u001b[2K   \u001b[90m━━━━━━━━━━━━━━━━━━━━━━━━━━━━━━━━━━━━━━━━\u001b[0m \u001b[32m20.8/20.8 MB\u001b[0m \u001b[31m14.6 MB/s\u001b[0m eta \u001b[36m0:00:00\u001b[0ma \u001b[36m0:00:01\u001b[0m\n",
      "\u001b[?25hDownloading tifffile-2025.6.11-py3-none-any.whl (230 kB)\n",
      "Installing collected packages: tifffile, scipy, lazy-loader, imageio, scikit-image\n",
      "\u001b[2K  Attempting uninstall: scipy\n",
      "\u001b[2K    Found existing installation: scipy 1.10.1\n",
      "\u001b[2K    Uninstalling scipy-1.10.1:\u001b[90m━━━━━━━━━━━━━━━━━━━━━━━━━━━━━━━\u001b[0m \u001b[32m1/5\u001b[0m [scipy]\n",
      "\u001b[2K      Successfully uninstalled scipy-1.10.1━━━━━━━━━━━━━━━━━━━\u001b[0m \u001b[32m1/5\u001b[0m [scipy]\n",
      "\u001b[2K   \u001b[90m━━━━━━━━━━━━━━━━━━━━━━━━━━━━━━━━━━━━━━━━\u001b[0m \u001b[32m5/5\u001b[0m [scikit-image][0m [scikit-image]\n",
      "\u001b[1A\u001b[2KSuccessfully installed imageio-2.37.0 lazy-loader-0.4 scikit-image-0.25.2 scipy-1.16.0 tifffile-2025.6.11\n",
      "Note: you may need to restart the kernel to use updated packages.\n"
     ]
    }
   ],
   "source": [
    "pip install scikit-image"
   ]
  },
  {
   "cell_type": "code",
   "execution_count": 13,
   "id": "366daf08",
   "metadata": {},
   "outputs": [],
   "source": [
    "import pandas as pd\n",
    "import numpy as np\n",
    "import matplotlib.pyplot as plt\n",
    "from skimage import io, filters, measure\n",
    "from skimage.color import label2rgb\n",
    "from skimage.measure import regionprops, label, perimeter\n",
    "from scipy.spatial.distance import euclidean\n",
    "import cv2\n",
    "import math\n",
    "\n",
    "def feret_diameter(region):\n",
    "    coords = region.coords\n",
    "    max_dist = 0\n",
    "    for i in range(len(coords)):\n",
    "        for j in range(i + 1, len(coords)):\n",
    "            dist = euclidean(coords[i], coords[j])\n",
    "            max_dist = max(max_dist, dist)\n",
    "    return max_dist\n",
    "\n",
    "def fractal_dimension(Z):\n",
    "    def boxcount(Z, k):\n",
    "        S = np.add.reduceat(\n",
    "            np.add.reduceat(Z, np.arange(0, Z.shape[0], k), axis=0),\n",
    "                               np.arange(0, Z.shape[1], k), axis=1)\n",
    "        return len(np.where(S > 0)[0])\n",
    "    Z = Z < 255\n",
    "    p = min(Z.shape)\n",
    "    n = 2**np.floor(np.log2(p)).astype(int)\n",
    "    sizes = 2 ** np.arange(int(np.log2(n)), 1, -1)\n",
    "    counts = [boxcount(Z, size) for size in sizes]\n",
    "    coeffs = np.polyfit(np.log(sizes), np.log(counts), 1)\n",
    "    return -coeffs[0]\n",
    "\n",
    "def lacunarity(image):\n",
    "    image = image.astype(np.float32)\n",
    "    mean = image.mean()\n",
    "    if mean == 0:\n",
    "        return 0\n",
    "    return image.var() / (mean ** 2)\n",
    "\n",
    "def extract_features_and_display(image_path):\n",
    "    img = io.imread(image_path, as_gray=True)\n",
    "    img = cv2.resize(img, (128, 128))  # Optional resizing\n",
    "    thresh = filters.threshold_otsu(img)\n",
    "    binary = img > thresh\n",
    "    label_img = label(binary)\n",
    "    props = regionprops(label_img)\n",
    "\n",
    "    fig, ax = plt.subplots()\n",
    "    ax.imshow(binary, cmap='gray')\n",
    "    ax.set_title(\"Segmented Object\")\n",
    "\n",
    "    for region in props:\n",
    "        if region.area < 50:\n",
    "            continue  # skip small noise regions\n",
    "\n",
    "        # Draw contour\n",
    "        minr, minc, maxr, maxc = region.bbox\n",
    "        rect = plt.Rectangle((minc, minr), maxc - minc, maxr - minr,\n",
    "                             edgecolor='red', facecolor='none', linewidth=2)\n",
    "        ax.add_patch(rect)\n",
    "\n",
    "        area = region.area\n",
    "        filled_area = region.filled_area\n",
    "        eq_diameter = region.equivalent_diameter\n",
    "        max_feret = feret_diameter(region)\n",
    "        ecc = region.eccentricity\n",
    "        peri = perimeter(region.image)\n",
    "        peri_surface_ratio = peri / filled_area if filled_area else 0\n",
    "        sphericity = (4 * math.pi * area) / (peri ** 2) if peri else 0\n",
    "        spherical_disprop = peri ** 2 / (4 * math.pi * area) if area else 0\n",
    "        solidity = region.solidity\n",
    "        major = region.major_axis_length\n",
    "        minor = region.minor_axis_length\n",
    "        elongation = major / minor if minor else 0\n",
    "        fractal = fractal_dimension(binary)\n",
    "        lacun = lacunarity(binary)\n",
    "\n",
    "        # Show features\n",
    "        print(\"\\n--- Extracted Features ---\")\n",
    "        print(f\"Area: {area}\")\n",
    "        print(f\"Filled Area: {filled_area}\")\n",
    "        print(f\"Equivalent Diameter: {eq_diameter:.2f}\")\n",
    "        print(f\"Max Feret Diameter: {max_feret:.2f}\")\n",
    "        print(f\"Eccentricity: {ecc:.2f}\")\n",
    "        print(f\"Perimeter: {peri:.2f}\")\n",
    "        print(f\"Perimeter-to-Surface Ratio: {peri_surface_ratio:.4f}\")\n",
    "        print(f\"Sphericity: {sphericity:.4f}\")\n",
    "        print(f\"Spherical Disproportion: {spherical_disprop:.4f}\")\n",
    "        print(f\"Solidity: {solidity:.4f}\")\n",
    "        print(f\"Major Axis Length: {major:.2f}\")\n",
    "        print(f\"Minor Axis Length: {minor:.2f}\")\n",
    "        print(f\"Elongation: {elongation:.2f}\")\n",
    "        print(f\"Fractal Dimension: {fractal:.4f}\")\n",
    "        print(f\"Lacunarity: {lacun:.4f}\")\n",
    "\n",
    "    plt.axis(\"off\")\n",
    "    plt.show()\n",
    "\n",
    "def extract_features(image_path):\n",
    "    img = io.imread(image_path, as_gray=True)\n",
    "    img = cv2.resize(img, (128, 128))  # Optional resizing\n",
    "    thresh = filters.threshold_otsu(img)\n",
    "    binary = img > thresh\n",
    "    label_img = label(binary)\n",
    "    props = regionprops(label_img)\n",
    "\n",
    "    fig, ax = plt.subplots()\n",
    "    ax.imshow(binary, cmap='gray')\n",
    "    ax.set_title(\"Segmented Object\")\n",
    "\n",
    "    for region in props:\n",
    "        if region.area < 50:\n",
    "            continue  # skip small noise regions\n",
    "\n",
    "        # Draw contour\n",
    "        minr, minc, maxr, maxc = region.bbox\n",
    "        rect = plt.Rectangle((minc, minr), maxc - minc, maxr - minr,\n",
    "                             edgecolor='red', facecolor='none', linewidth=2)\n",
    "        ax.add_patch(rect)\n",
    "\n",
    "        area = region.area\n",
    "        filled_area = region.filled_area\n",
    "        eq_diameter = region.equivalent_diameter\n",
    "        max_feret = feret_diameter(region)\n",
    "        ecc = region.eccentricity\n",
    "        peri = perimeter(region.image)\n",
    "        peri_surface_ratio = peri / filled_area if filled_area else 0\n",
    "        sphericity = (4 * math.pi * area) / (peri ** 2) if peri else 0\n",
    "        spherical_disprop = peri ** 2 / (4 * math.pi * area) if area else 0\n",
    "        solidity = region.solidity\n",
    "        major = region.major_axis_length\n",
    "        minor = region.minor_axis_length\n",
    "        elongation = major / minor if minor else 0\n",
    "        fractal = fractal_dimension(binary)\n",
    "        lacun = lacunarity(binary)\n",
    "        \n",
    "\n"
   ]
  },
  {
   "cell_type": "code",
   "execution_count": 14,
   "id": "1dcca257",
   "metadata": {},
   "outputs": [
    {
     "data": {
      "image/png": "[encoded data removed]",
      "text/plain": [
       "<Figure size 640x480 with 1 Axes>"
      ]
     },
     "metadata": {},
     "output_type": "display_data"
    }
   ],
   "source": [
    "# Example usage\n",
    "features = extract_features(\"test.tif\")\n",
    "\n",
    "features"
   ]
  },
  {
   "cell_type": "code",
   "execution_count": 8,
   "id": "bc845685",
   "metadata": {},
   "outputs": [
    {
     "name": "stdout",
     "output_type": "stream",
     "text": [
      "\n",
      "--- Extracted Features ---\n",
      "Area: 345.0\n",
      "Filled Area: 347.0\n",
      "Equivalent Diameter: 20.96\n",
      "Max Feret Diameter: 66.29\n",
      "Eccentricity: 0.92\n",
      "Perimeter: 239.96\n",
      "Perimeter-to-Surface Ratio: 0.6915\n",
      "Sphericity: 0.0753\n",
      "Spherical Disproportion: 13.2815\n",
      "Solidity: 0.2926\n",
      "Major Axis Length: 57.55\n",
      "Minor Axis Length: 22.12\n",
      "Elongation: 2.60\n",
      "Fractal Dimension: 2.0000\n",
      "Lacunarity: 35.7354\n"
     ]
    },
    {
     "data": {
      "image/png": "[encoded data removed]",
      "text/plain": [
       "<Figure size 640x480 with 1 Axes>"
      ]
     },
     "metadata": {},
     "output_type": "display_data"
    }
   ],
   "source": [
    "# Example usage\n",
    "extract_features_and_display(\"test.tif\")"
   ]
  },
  {
   "cell_type": "code",
   "execution_count": 12,
   "id": "1581f073",
   "metadata": {},
   "outputs": [
    {
     "name": "stdout",
     "output_type": "stream",
     "text": [
      "None\n"
     ]
    }
   ],
   "source": [
    "print(features)"
   ]
  },
  {
   "cell_type": "code",
   "execution_count": null,
   "id": "ea6f91d3",
   "metadata": {},
   "outputs": [],
   "source": []
  }
 ],
 "metadata": {
  "kernelspec": {
   "display_name": "Python 3 (ipykernel)",
   "language": "python",
   "name": "python3"
  },
  "language_info": {
   "codemirror_mode": {
    "name": "ipython",
    "version": 3
   },
   "file_extension": ".py",
   "mimetype": "text/x-python",
   "name": "python",
   "nbconvert_exporter": "python",
   "pygments_lexer": "ipython3",
   "version": "3.11.1"
  }
 },
 "nbformat": 4,
 "nbformat_minor": 5
}
